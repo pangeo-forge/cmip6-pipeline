{
 "cells": [
  {
   "cell_type": "code",
   "execution_count": null,
   "metadata": {},
   "outputs": [],
   "source": [
    "import cmip6_bq\n",
    "import google"
   ]
  },
  {
   "cell_type": "code",
   "execution_count": null,
   "metadata": {},
   "outputs": [],
   "source": [
    "# sample zarr store\n",
    "\n",
    "zstore = \"gs://cmip6/CMIP6/AerChemMIP/AS-RCEC/TaiESM1/histSST/r1i1p1f1/AERmon/od550aer/gn/v20200310/\""
   ]
  },
  {
   "cell_type": "code",
   "execution_count": null,
   "metadata": {},
   "outputs": [],
   "source": [
    "# get_zarr_id example\n",
    "\n",
    "cmip6_bq.get_zarr_id(zstore)"
   ]
  },
  {
   "cell_type": "code",
   "execution_count": null,
   "metadata": {},
   "outputs": [],
   "source": [
    "# get_zarr_dict example\n",
    "\n",
    "cmip6_bq.get_zarr_dict(zstore)"
   ]
  },
  {
   "cell_type": "code",
   "execution_count": null,
   "metadata": {},
   "outputs": [],
   "source": [
    "# get_tracking_ids example\n",
    "\n",
    "d_id, nc_id = cmip6_bq.get_tracking_ids(zstore)\n",
    "\n",
    "d_id, nc_id"
   ]
  },
  {
   "cell_type": "code",
   "execution_count": null,
   "metadata": {},
   "outputs": [],
   "source": [
    "# make_row example\n",
    "\n",
    "cmip6_bq.make_row(\n",
    "    zstore, \n",
    "    status=\"good\", \n",
    "    version=\"v56\", \n",
    "    severity=None, \n",
    "    issue_url=None, \n",
    "    dataset_tracking_id=d_id, \n",
    "    netcdf_tracking_ids=nc_id)\n",
    "\n",
    "# if tracking IDs aren't specified, they will be polled on demand\n",
    "cmip6_bq.make_row(\n",
    "    zstore, \n",
    "    status=\"good\", \n",
    "    version=\"v56\", \n",
    "    severity=None, \n",
    "    issue_url=None, \n",
    "    dataset_tracking_id=None, \n",
    "    netcdf_tracking_ids=None)"
   ]
  },
  {
   "cell_type": "code",
   "execution_count": null,
   "metadata": {},
   "outputs": [],
   "source": [
    "# make_rows example\n",
    "\n",
    "metadata = {zstore : {\n",
    "    \"status\" : \"good\",\n",
    "    \"version\" : \"v56\",\n",
    "    \"dataset_tracking_id\" : d_id,\n",
    "    \"netcdf_tracking_ids\" : nc_id\n",
    "}}\n",
    "\n",
    "rows = cmip6_bq.make_rows([zstore], metadata)\n",
    "rows"
   ]
  },
  {
   "cell_type": "code",
   "execution_count": null,
   "metadata": {},
   "outputs": [],
   "source": [
    "# pip install google-cloud-bigquery"
   ]
  },
  {
   "cell_type": "code",
   "execution_count": null,
   "metadata": {},
   "outputs": [],
   "source": [
    "# insert_rows example\n",
    "\n",
    "# main table name is `cmip6_zarr_consolidated_stores_noQC`\n",
    "cmip6_bq.insert_rows(rows, \"cmip6_test\")"
   ]
  }
 ],
 "metadata": {
  "kernelspec": {
   "display_name": "pangeo-Jul2020",
   "language": "python",
   "name": "pangeo-jul2020"
  },
  "language_info": {
   "codemirror_mode": {
    "name": "ipython",
    "version": 3
   },
   "file_extension": ".py",
   "mimetype": "text/x-python",
   "name": "python",
   "nbconvert_exporter": "python",
   "pygments_lexer": "ipython3",
   "version": "3.7.6"
  }
 },
 "nbformat": 4,
 "nbformat_minor": 4
}
