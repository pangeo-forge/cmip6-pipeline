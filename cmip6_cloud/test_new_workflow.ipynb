{
 "cells": [
  {
   "cell_type": "code",
   "execution_count": 1,
   "metadata": {},
   "outputs": [],
   "source": [
    "import numpy as np\n",
    "import pandas as pd\n",
    "import os\n",
    "import gcsfs\n",
    "import xarray as xr\n",
    "from functools import partial\n",
    "from IPython.display import display\n",
    "from glob import glob\n",
    "import warnings\n",
    "import datetime\n",
    "import pprint\n",
    "\n",
    "import configparser\n",
    "config = configparser.ConfigParser()"
   ]
  },
  {
   "cell_type": "code",
   "execution_count": 2,
   "metadata": {},
   "outputs": [],
   "source": [
    "from esgf import esgf_search_sites, search, esgf_search"
   ]
  },
  {
   "cell_type": "markdown",
   "metadata": {},
   "source": [
    "### Load specified `zcs_id` from config file as well as I/O and ESGF specs"
   ]
  },
  {
   "cell_type": "code",
   "execution_count": 3,
   "metadata": {},
   "outputs": [],
   "source": [
    "config.read('config.cfg')\n",
    "zcs_dict = {}\n",
    "zcs_dict['activity_id'] = (config.get('zcs_id', 'activity_id'))\n",
    "zcs_dict['institution_id'] = config.get(\"zcs_id\", \"institution_id\")\n",
    "zcs_dict['source_id'] = config.get(\"zcs_id\", \"source_id\")\n",
    "zcs_dict['experiment_id'] = config.get(\"zcs_id\", \"experiment_id\")\n",
    "zcs_dict['member_id'] = config.get(\"zcs_id\", \"member_id\")\n",
    "zcs_dict['table_id'] = config.get(\"zcs_id\", \"table_id\")\n",
    "zcs_dict['variable_id'] = config.get(\"zcs_id\", \"variable_id\")\n",
    "zcs_dict['grid_label'] = config.get(\"zcs_id\", \"grid_label\")\n",
    "# zcs_id = (activity_id, institution_id, source_id, experiment_id, member_id, table_id, variable_id, grid_label)\n",
    "\n",
    "zarr_local = config.get(\"FILEPATHS\", \"zarr_local\")\n",
    "update_ESGF = config.getboolean(\"ESGF\", \"update_ESGF\")\n",
    "local_node = config.getboolean(\"ESGF\", \"local_node\")"
   ]
  },
  {
   "cell_type": "code",
   "execution_count": 4,
   "metadata": {},
   "outputs": [
    {
     "name": "stdout",
     "output_type": "stream",
     "text": [
      "possible ESGF API search nodes:  ['llnl', 'ipsl', 'nci', 'ceda', 'gfdl', 'dkrz']\n",
      "setting current ESGF node to llnl\n"
     ]
    }
   ],
   "source": [
    "fs = gcsfs.GCSFileSystem(token='anon', access='read_only')\n",
    "dtype = esgf_search_sites()\n",
    "print('possible ESGF API search nodes: ',list(dtype.keys()))\n",
    "node = 'llnl'\n",
    "print(\"setting current ESGF node to %s\" %node)\n",
    "ESGF_site = dtype[node]"
   ]
  },
  {
   "cell_type": "markdown",
   "metadata": {},
   "source": [
    "### get what exists in GCS as zarr stores already "
   ]
  },
  {
   "cell_type": "code",
   "execution_count": null,
   "metadata": {},
   "outputs": [],
   "source": [
    "dzLocal = pd.read_csv('https://cmip6.storage.googleapis.com/cmip6-zarr-consolidated-stores-noQC.csv', dtype={'version': 'unicode'})\n",
    "# len(dzLocal),len(dESGF)\n",
    "len(dzLocal)"
   ]
  },
  {
   "cell_type": "code",
   "execution_count": null,
   "metadata": {},
   "outputs": [],
   "source": [
    "for key in zcs_dict:\n",
    "    if zcs_dict[key] != 'All':\n",
    "        dzLocal = dzLocal.loc[(dzLocal[key] == zcs_dict[key])]\n",
    "len(dzLocal)\n",
    "pprint.pprint(zcs_dict)\n",
    "print(\"there are currently %.0f models in GCS for the above zarr catalog store unique id\" %len(dzLocal))"
   ]
  },
  {
   "cell_type": "markdown",
   "metadata": {},
   "source": [
    "### get what exists in ESGF that is not in GCS "
   ]
  },
  {
   "cell_type": "code",
   "execution_count": 8,
   "metadata": {},
   "outputs": [
    {
     "name": "stdout",
     "output_type": "stream",
     "text": [
      "ssp370 tasmax\n",
      "got-em\n"
     ]
    }
   ],
   "source": [
    "if update_ESGF:\n",
    "    # get for all sources and members, filter request later\n",
    "    df_list = []\n",
    "    experiment_id = zcs_dict['experiment_id']\n",
    "    variable_id = zcs_dict['variable_id']\n",
    "    table_id = zcs_dict['table_id']\n",
    "    print(experiment_id,variable_id)\n",
    "    \n",
    "    files = esgf_search(server=ESGF_site, mip_era='CMIP6', variable_id=variable_id, \n",
    "                           table_id=table_id, experiment_id=experiment_id, \n",
    "                           page_size=500, verbose=False, local_node=False)\n",
    "    print('got-em')\n",
    "\n",
    "    files.loc[:,'version'] = [str.split('/')[-2] for str in files['HTTPServer_url']]\n",
    "    files.loc[:,'file_name'] = [str.split('/')[-1] for str in files['HTTPServer_url']]\n",
    "    # might need to set activity_id to activity_drs for some files (see old versions)\n",
    "    files.loc[:,'activity_id'] = files.activity_drs\n",
    "    df_list += [files.drop_duplicates(subset =[\"file_name\",\"version\",\"checksum\"]) ]\n",
    "\n",
    "    dESGF = pd.concat(df_list,sort=False)\n",
    "    dESGF = dESGF.drop_duplicates(subset =[\"file_name\",\"version\",\"checksum\"])\n",
    "    dESGF.to_csv(os.path.join(zarr_local, 'ESGF_specific.csv'),index=False)\n",
    "else:\n",
    "    dESGF = pd.read_csv('csv/ESGF_specific.csv')\n",
    "    dESGF = dESGF.drop_duplicates(subset =[\"file_name\",\"version\",\"checksum\"])"
   ]
  },
  {
   "cell_type": "code",
   "execution_count": null,
   "metadata": {},
   "outputs": [],
   "source": [
    "'''if update_ESGF:\n",
    "    # get for all sources and members, filter request later\n",
    "    df_list = []\n",
    "    for experiment_id in zcs_dict['experiment_id']:\n",
    "        for variable_id in zcs_dict['variable_id']:\n",
    "            print(experiment_id,variable_id)\n",
    "            try:\n",
    "                files= esgf_search(server=ESGF_site, mip_era='CMIP6', variable_id=variable_id, \n",
    "        table_id=table_id, experiment_id=experiment_id, page_size=500, verbose=False, local_node=False)\n",
    "                #print('got-em')\n",
    "            except:\n",
    "                #print(experiment_id, table_id,variable_id,'nothing doing')\n",
    "                continue\n",
    "\n",
    "            files.loc[:,'version'] = [str.split('/')[-2] for str in files['HTTPServer_url']]\n",
    "            files.loc[:,'file_name'] = [str.split('/')[-1] for str in files['HTTPServer_url']]\n",
    "            # might need to set activity_id to activity_drs for some files (see old versions)\n",
    "            files.loc[:,'activity_id'] = files.activity_drs\n",
    "            df_list += [files.drop_duplicates(subset =[\"file_name\",\"version\",\"checksum\"]) ]\n",
    "\n",
    "    dESGF = pd.concat(df_list,sort=False)\n",
    "    dESGF = dESGF.drop_duplicates(subset =[\"file_name\",\"version\",\"checksum\"])\n",
    "    dESGF.to_csv('csv/ESGF_specific.csv',index=False)\n",
    "else:\n",
    "    dESGF = pd.read_csv('csv/ESGF_specific.csv')\n",
    "    dESGF = dESGF.drop_duplicates(subset =[\"file_name\",\"version\",\"checksum\"])'''"
   ]
  },
  {
   "cell_type": "code",
   "execution_count": null,
   "metadata": {},
   "outputs": [],
   "source": [
    "urls = get_dataset_urls(zcs_id)"
   ]
  },
  {
   "cell_type": "code",
   "execution_count": null,
   "metadata": {},
   "outputs": [],
   "source": []
  }
 ],
 "metadata": {
  "kernelspec": {
   "display_name": "Python 3",
   "language": "python",
   "name": "python3"
  },
  "language_info": {
   "codemirror_mode": {
    "name": "ipython",
    "version": 3
   },
   "file_extension": ".py",
   "mimetype": "text/x-python",
   "name": "python",
   "nbconvert_exporter": "python",
   "pygments_lexer": "ipython3",
   "version": "3.7.3"
  }
 },
 "nbformat": 4,
 "nbformat_minor": 4
}
