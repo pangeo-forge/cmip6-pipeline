{
 "cells": [
  {
   "cell_type": "code",
   "execution_count": null,
   "metadata": {},
   "outputs": [],
   "source": [
    "! !pip install git+https://github.com/rabernat/pystac.git@optional-timezone-check"
   ]
  },
  {
   "cell_type": "code",
   "execution_count": 1,
   "metadata": {},
   "outputs": [],
   "source": [
    "from datetime import datetime, timezone\n",
    "from tqdm.auto import trange, tqdm\n",
    "import pystac\n",
    "import cftime\n",
    "import zarr\n",
    "\n",
    "import concurrent.futures"
   ]
  },
  {
   "cell_type": "code",
   "execution_count": 2,
   "metadata": {},
   "outputs": [
    {
     "data": {
      "text/html": [
       "\n",
       "<style>\n",
       ".p-Widget.jp-OutputPrompt.jp-OutputArea-prompt:empty {\n",
       "  padding: 0;\n",
       "  border: 0;\n",
       "}\n",
       "</style>\n"
      ],
      "text/plain": [
       "<IPython.core.display.HTML object>"
      ]
     },
     "execution_count": 2,
     "metadata": {},
     "output_type": "execute_result"
    }
   ],
   "source": [
    "# https://github.com/bstriner/keras-tqdm/issues/21#issuecomment-443019223\n",
    "\n",
    "from IPython.core.display import HTML\n",
    "HTML(\"\"\"\n",
    "<style>\n",
    ".p-Widget.jp-OutputPrompt.jp-OutputArea-prompt:empty {\n",
    "  padding: 0;\n",
    "  border: 0;\n",
    "}\n",
    "</style>\n",
    "\"\"\")"
   ]
  },
  {
   "cell_type": "code",
   "execution_count": 3,
   "metadata": {},
   "outputs": [],
   "source": [
    "import gcsfs\n",
    "fs = gcsfs.GCSFileSystem()"
   ]
  },
  {
   "cell_type": "code",
   "execution_count": 4,
   "metadata": {},
   "outputs": [],
   "source": [
    "_GLOBAL_EXTENT = pystac.SpatialExtent([[-180, -90, 180, 90]])"
   ]
  },
  {
   "cell_type": "code",
   "execution_count": 5,
   "metadata": {},
   "outputs": [],
   "source": [
    "_DEFAULT_TEMPORAL_EXTENT = pystac.TemporalExtent([[datetime.min, datetime.max]])\n",
    "\n",
    "def get_temporal_extent_from_zarr_group(path):\n",
    "    zgroup = zarr.open_consolidated(fs.get_mapper(path))\n",
    "    try:\n",
    "        time_arr = zgroup['time']\n",
    "    except KeyError:\n",
    "        return _DEFAULT_TEMPORAL_EXTENT\n",
    "    \n",
    "    date_min, date_max = [\n",
    "        cftime.num2date(num, time_arr.attrs['units'], calendar=time_arr.attrs['calendar'])\n",
    "        for num in (time_arr[0], time_arr[-1])\n",
    "    ]   \n",
    "    \n",
    "    return pystac.TemporalExtent([[date_min, date_max]])"
   ]
  },
  {
   "cell_type": "code",
   "execution_count": 6,
   "metadata": {},
   "outputs": [
    {
     "data": {
      "text/plain": [
       "[<pystac.collection.Provider at 0x7feca7247a00>,\n",
       " <pystac.collection.Provider at 0x7feca7247a90>,\n",
       " <pystac.collection.Provider at 0x7feca7247790>]"
      ]
     },
     "execution_count": 6,
     "metadata": {},
     "output_type": "execute_result"
    }
   ],
   "source": [
    "providers = [\n",
    "    pystac.Provider(\"World Climate Research Programme\",\n",
    "        roles=[\"producer\", \"licensor\"],\n",
    "        url=\"https://www.wcrp-climate.org/wgcm-cmip/wgcm-cmip6\"\n",
    "    ),\n",
    "    pystac.Provider(\"Pangeo\",\n",
    "        roles=[\"processor\"],\n",
    "        url=\"https://pangeo.io/\"\n",
    "    ),\n",
    "    pystac.Provider(\"Google Cloud\",\n",
    "        roles=[\"host\"],\n",
    "        url=\"https://cloud.google.com/storage\"\n",
    "    )\n",
    "]\n",
    "providers"
   ]
  },
  {
   "cell_type": "code",
   "execution_count": 7,
   "metadata": {},
   "outputs": [],
   "source": [
    "extensions = [\"collection-assets\"]\n",
    "\n",
    "license_link = pystac.Link(\n",
    "    \"license\",\n",
    "    \"https://pcmdi.llnl.gov/CMIP6/TermsOfUse/TermsOfUse6-1.html\",\n",
    "    media_type=\"text/html\",\n",
    "    title=\"CMIP6: Terms of Use\"\n",
    ")\n",
    "license_link\n",
    "\n",
    "def make_asset_path(path,\n",
    "                    prefix=\"https://storage.googleapis.com\",\n",
    "                    suffix=\"/.zmetadata\"):\n",
    "    return prefix + path + suffix\n",
    "\n",
    "\n",
    "def collection_from_zarr_group(path):\n",
    "    coll_id = path.split('/')[-1]\n",
    "    description = \"Auto-generated description\"\n",
    "    temporal_extent = get_temporal_extent_from_zarr_group(path)\n",
    "    extent = pystac.Extent(_GLOBAL_EXTENT, temporal_extent)\n",
    "    \n",
    "    \n",
    "    assets =  {\n",
    "        \"zmetadata\": {\n",
    "          \"href\": make_asset_path(path),\n",
    "          \"description\": \"Consolidated metadata file for Zarr store\",\n",
    "          \"type\": \"application/json\",\n",
    "          \"roles\": [\n",
    "            \"metadata\",\n",
    "            \"zarr-v2-consolidated-metadata\"\n",
    "          ]\n",
    "        }\n",
    "    }\n",
    "    \n",
    "    coll = pystac.Collection(\n",
    "        coll_id,\n",
    "        description,\n",
    "        extent,\n",
    "        stac_extensions=extensions,\n",
    "        providers=providers,\n",
    "        extra_fields={\"assets\": assets}\n",
    "    )\n",
    "    coll.add_link(license_link)\n",
    "    return coll\n",
    "\n",
    "def catalog(path):\n",
    "    cat_id = path.split('/')[-1]\n",
    "    description = \"Auto-generated description\"\n",
    "    cat = pystac.Catalog(cat_id, description,\n",
    "                         catalog_type=pystac.CatalogType.SELF_CONTAINED)\n",
    "    return cat"
   ]
  },
  {
   "cell_type": "code",
   "execution_count": 8,
   "metadata": {},
   "outputs": [],
   "source": [
    "def list_files_and_subdirs(path):\n",
    "    subdirs = {}\n",
    "    files = {}\n",
    "    \n",
    "    listing = fs.ls(path, detail=True)\n",
    "    for info in listing:\n",
    "        pathname = info[\"name\"].rstrip(\"/\")\n",
    "        name = pathname.rsplit(\"/\", 1)[-1]\n",
    "        if info[\"type\"] == \"directory\" and pathname != path:\n",
    "            # do not include \"self\" path\n",
    "            #full_dirs[pathname] = info\n",
    "            subdirs[pathname] = info\n",
    "        elif pathname == path:\n",
    "            # file-like with same name as give path\n",
    "            files[\"\"] = info\n",
    "        else:\n",
    "            files[name] = info\n",
    "    \n",
    "    return list(files), list(subdirs), "
   ]
  },
  {
   "cell_type": "code",
   "execution_count": 14,
   "metadata": {},
   "outputs": [],
   "source": [
    "def walk_recursive(path, depth=0, max_depth=None, use_tqdm=True):\n",
    "    files, subdirs = list_files_and_subdirs(path)\n",
    "    #if depth < 3:\n",
    "    #    print(path)\n",
    "    if '.zmetadata' in files:\n",
    "        return collection_from_zarr_group(path)\n",
    "    elif max_depth and depth >= max_depth:\n",
    "        return none\n",
    "    else:\n",
    "        if use_tqdm and len(subdirs) > 1:\n",
    "            subdirs = tqdm(\n",
    "                subdirs,\n",
    "                desc=os.path.basename(path),\n",
    "                leave=(depth<1)\n",
    "            )\n",
    "        cat = catalog(path)\n",
    "        items = [\n",
    "            walk_recursive(\n",
    "                sd,\n",
    "                depth=(depth + 1),\n",
    "                max_depth=max_depth\n",
    "            )\n",
    "            for sd in subdirs \n",
    "        ]\n",
    "        cat.add_children([item for item in items if item])\n",
    "        return cat"
   ]
  },
  {
   "cell_type": "code",
   "execution_count": 15,
   "metadata": {},
   "outputs": [],
   "source": [
    "def walk_recursive_threaded(path, depth=0, max_depth=None, executor=None):\n",
    "    files, subdirs = list_files_and_subdirs(path)\n",
    "    if '.zmetadata' in files:\n",
    "        #print(path)\n",
    "        return collection_from_zarr_group(path)\n",
    "    elif max_depth and depth >= max_depth:\n",
    "        return none\n",
    "    else:\n",
    "        cat = catalog(path)\n",
    "        def walk_thunk(item):\n",
    "            return walk_recursive_threaded(item, depth=(depth + 1), max_depth=max_depth, executor=executor)\n",
    "        if depth <= 1:\n",
    "            items = executor.map(walk_thunk, subdirs)\n",
    "        else:\n",
    "            items = [walk_thunk(s) for s in subdirs]\n",
    "        cat.add_children([item for item in items if item])\n",
    "        return cat"
   ]
  },
  {
   "cell_type": "code",
   "execution_count": 16,
   "metadata": {},
   "outputs": [],
   "source": [
    "fs.clear_instance_cache()"
   ]
  },
  {
   "cell_type": "code",
   "execution_count": null,
   "metadata": {},
   "outputs": [],
   "source": []
  },
  {
   "cell_type": "code",
   "execution_count": 17,
   "metadata": {},
   "outputs": [
    {
     "data": {
      "application/vnd.jupyter.widget-view+json": {
       "model_id": "83c7c2c1cd304e54998340784a88570a",
       "version_major": 2,
       "version_minor": 0
      },
      "text/plain": [
       "HBox(children=(HTML(value='AWI'), FloatProgress(value=0.0, max=2.0), HTML(value='')))"
      ]
     },
     "metadata": {},
     "output_type": "display_data"
    },
    {
     "data": {
      "application/vnd.jupyter.widget-view+json": {
       "model_id": "",
       "version_major": 2,
       "version_minor": 0
      },
      "text/plain": [
       "HBox(children=(HTML(value='AWI-CM-1-1-MR'), FloatProgress(value=0.0, max=4.0), HTML(value='')))"
      ]
     },
     "metadata": {},
     "output_type": "display_data"
    },
    {
     "data": {
      "application/vnd.jupyter.widget-view+json": {
       "model_id": "",
       "version_major": 2,
       "version_minor": 0
      },
      "text/plain": [
       "HBox(children=(HTML(value='r1i1p1f1'), FloatProgress(value=0.0, max=4.0), HTML(value='')))"
      ]
     },
     "metadata": {},
     "output_type": "display_data"
    },
    {
     "data": {
      "application/vnd.jupyter.widget-view+json": {
       "model_id": "",
       "version_major": 2,
       "version_minor": 0
      },
      "text/plain": [
       "HBox(children=(HTML(value='Amon'), FloatProgress(value=0.0, max=32.0), HTML(value='')))"
      ]
     },
     "metadata": {},
     "output_type": "display_data"
    },
    {
     "data": {
      "application/vnd.jupyter.widget-view+json": {
       "model_id": "",
       "version_major": 2,
       "version_minor": 0
      },
      "text/plain": [
       "HBox(children=(HTML(value='Omon'), FloatProgress(value=0.0, max=6.0), HTML(value='')))"
      ]
     },
     "metadata": {},
     "output_type": "display_data"
    },
    {
     "data": {
      "application/vnd.jupyter.widget-view+json": {
       "model_id": "",
       "version_major": 2,
       "version_minor": 0
      },
      "text/plain": [
       "HBox(children=(HTML(value='SImon'), FloatProgress(value=0.0, max=10.0), HTML(value='')))"
      ]
     },
     "metadata": {},
     "output_type": "display_data"
    },
    {
     "data": {
      "application/vnd.jupyter.widget-view+json": {
       "model_id": "",
       "version_major": 2,
       "version_minor": 0
      },
      "text/plain": [
       "HBox(children=(HTML(value='fx'), FloatProgress(value=0.0, max=3.0), HTML(value='')))"
      ]
     },
     "metadata": {},
     "output_type": "display_data"
    },
    {
     "data": {
      "application/vnd.jupyter.widget-view+json": {
       "model_id": "",
       "version_major": 2,
       "version_minor": 0
      },
      "text/plain": [
       "HBox(children=(HTML(value='r1i1p1f1'), FloatProgress(value=0.0, max=4.0), HTML(value='')))"
      ]
     },
     "metadata": {},
     "output_type": "display_data"
    },
    {
     "data": {
      "application/vnd.jupyter.widget-view+json": {
       "model_id": "",
       "version_major": 2,
       "version_minor": 0
      },
      "text/plain": [
       "HBox(children=(HTML(value='Amon'), FloatProgress(value=0.0, max=31.0), HTML(value='')))"
      ]
     },
     "metadata": {},
     "output_type": "display_data"
    },
    {
     "data": {
      "application/vnd.jupyter.widget-view+json": {
       "model_id": "",
       "version_major": 2,
       "version_minor": 0
      },
      "text/plain": [
       "HBox(children=(HTML(value='Omon'), FloatProgress(value=0.0, max=4.0), HTML(value='')))"
      ]
     },
     "metadata": {},
     "output_type": "display_data"
    },
    {
     "data": {
      "application/vnd.jupyter.widget-view+json": {
       "model_id": "",
       "version_major": 2,
       "version_minor": 0
      },
      "text/plain": [
       "HBox(children=(HTML(value='SImon'), FloatProgress(value=0.0, max=9.0), HTML(value='')))"
      ]
     },
     "metadata": {},
     "output_type": "display_data"
    },
    {
     "data": {
      "application/vnd.jupyter.widget-view+json": {
       "model_id": "",
       "version_major": 2,
       "version_minor": 0
      },
      "text/plain": [
       "HBox(children=(HTML(value='fx'), FloatProgress(value=0.0, max=3.0), HTML(value='')))"
      ]
     },
     "metadata": {},
     "output_type": "display_data"
    },
    {
     "data": {
      "application/vnd.jupyter.widget-view+json": {
       "model_id": "",
       "version_major": 2,
       "version_minor": 0
      },
      "text/plain": [
       "HBox(children=(HTML(value='historical'), FloatProgress(value=0.0, max=5.0), HTML(value='')))"
      ]
     },
     "metadata": {},
     "output_type": "display_data"
    },
    {
     "data": {
      "application/vnd.jupyter.widget-view+json": {
       "model_id": "",
       "version_major": 2,
       "version_minor": 0
      },
      "text/plain": [
       "HBox(children=(HTML(value='r1i1p1f1'), FloatProgress(value=0.0, max=7.0), HTML(value='')))"
      ]
     },
     "metadata": {},
     "output_type": "display_data"
    },
    {
     "data": {
      "application/vnd.jupyter.widget-view+json": {
       "model_id": "",
       "version_major": 2,
       "version_minor": 0
      },
      "text/plain": [
       "HBox(children=(HTML(value='Amon'), FloatProgress(value=0.0, max=29.0), HTML(value='')))"
      ]
     },
     "metadata": {},
     "output_type": "display_data"
    },
    {
     "data": {
      "application/vnd.jupyter.widget-view+json": {
       "model_id": "",
       "version_major": 2,
       "version_minor": 0
      },
      "text/plain": [
       "HBox(children=(HTML(value='Omon'), FloatProgress(value=0.0, max=17.0), HTML(value='')))"
      ]
     },
     "metadata": {},
     "output_type": "display_data"
    },
    {
     "data": {
      "application/vnd.jupyter.widget-view+json": {
       "model_id": "",
       "version_major": 2,
       "version_minor": 0
      },
      "text/plain": [
       "HBox(children=(HTML(value='SImon'), FloatProgress(value=0.0, max=9.0), HTML(value='')))"
      ]
     },
     "metadata": {},
     "output_type": "display_data"
    },
    {
     "data": {
      "application/vnd.jupyter.widget-view+json": {
       "model_id": "",
       "version_major": 2,
       "version_minor": 0
      },
      "text/plain": [
       "HBox(children=(HTML(value='day'), FloatProgress(value=0.0, max=6.0), HTML(value='')))"
      ]
     },
     "metadata": {},
     "output_type": "display_data"
    },
    {
     "data": {
      "application/vnd.jupyter.widget-view+json": {
       "model_id": "",
       "version_major": 2,
       "version_minor": 0
      },
      "text/plain": [
       "HBox(children=(HTML(value='fx'), FloatProgress(value=0.0, max=3.0), HTML(value='')))"
      ]
     },
     "metadata": {},
     "output_type": "display_data"
    },
    {
     "data": {
      "application/vnd.jupyter.widget-view+json": {
       "model_id": "",
       "version_major": 2,
       "version_minor": 0
      },
      "text/plain": [
       "HBox(children=(HTML(value='r2i1p1f1'), FloatProgress(value=0.0, max=7.0), HTML(value='')))"
      ]
     },
     "metadata": {},
     "output_type": "display_data"
    },
    {
     "data": {
      "application/vnd.jupyter.widget-view+json": {
       "model_id": "",
       "version_major": 2,
       "version_minor": 0
      },
      "text/plain": [
       "HBox(children=(HTML(value='Amon'), FloatProgress(value=0.0, max=19.0), HTML(value='')))"
      ]
     },
     "metadata": {},
     "output_type": "display_data"
    },
    {
     "data": {
      "application/vnd.jupyter.widget-view+json": {
       "model_id": "",
       "version_major": 2,
       "version_minor": 0
      },
      "text/plain": [
       "HBox(children=(HTML(value='Omon'), FloatProgress(value=0.0, max=17.0), HTML(value='')))"
      ]
     },
     "metadata": {},
     "output_type": "display_data"
    },
    {
     "data": {
      "application/vnd.jupyter.widget-view+json": {
       "model_id": "",
       "version_major": 2,
       "version_minor": 0
      },
      "text/plain": [
       "HBox(children=(HTML(value='SImon'), FloatProgress(value=0.0, max=9.0), HTML(value='')))"
      ]
     },
     "metadata": {},
     "output_type": "display_data"
    },
    {
     "data": {
      "application/vnd.jupyter.widget-view+json": {
       "model_id": "",
       "version_major": 2,
       "version_minor": 0
      },
      "text/plain": [
       "HBox(children=(HTML(value='day'), FloatProgress(value=0.0, max=7.0), HTML(value='')))"
      ]
     },
     "metadata": {},
     "output_type": "display_data"
    },
    {
     "data": {
      "application/vnd.jupyter.widget-view+json": {
       "model_id": "",
       "version_major": 2,
       "version_minor": 0
      },
      "text/plain": [
       "HBox(children=(HTML(value='r3i1p1f1'), FloatProgress(value=0.0, max=7.0), HTML(value='')))"
      ]
     },
     "metadata": {},
     "output_type": "display_data"
    },
    {
     "data": {
      "application/vnd.jupyter.widget-view+json": {
       "model_id": "",
       "version_major": 2,
       "version_minor": 0
      },
      "text/plain": [
       "HBox(children=(HTML(value='Amon'), FloatProgress(value=0.0, max=24.0), HTML(value='')))"
      ]
     },
     "metadata": {},
     "output_type": "display_data"
    },
    {
     "data": {
      "application/vnd.jupyter.widget-view+json": {
       "model_id": "",
       "version_major": 2,
       "version_minor": 0
      },
      "text/plain": [
       "HBox(children=(HTML(value='Omon'), FloatProgress(value=0.0, max=17.0), HTML(value='')))"
      ]
     },
     "metadata": {},
     "output_type": "display_data"
    },
    {
     "data": {
      "application/vnd.jupyter.widget-view+json": {
       "model_id": "",
       "version_major": 2,
       "version_minor": 0
      },
      "text/plain": [
       "HBox(children=(HTML(value='SImon'), FloatProgress(value=0.0, max=9.0), HTML(value='')))"
      ]
     },
     "metadata": {},
     "output_type": "display_data"
    },
    {
     "data": {
      "application/vnd.jupyter.widget-view+json": {
       "model_id": "",
       "version_major": 2,
       "version_minor": 0
      },
      "text/plain": [
       "HBox(children=(HTML(value='day'), FloatProgress(value=0.0, max=7.0), HTML(value='')))"
      ]
     },
     "metadata": {},
     "output_type": "display_data"
    },
    {
     "data": {
      "application/vnd.jupyter.widget-view+json": {
       "model_id": "",
       "version_major": 2,
       "version_minor": 0
      },
      "text/plain": [
       "HBox(children=(HTML(value='r4i1p1f1'), FloatProgress(value=0.0, max=7.0), HTML(value='')))"
      ]
     },
     "metadata": {},
     "output_type": "display_data"
    },
    {
     "data": {
      "application/vnd.jupyter.widget-view+json": {
       "model_id": "",
       "version_major": 2,
       "version_minor": 0
      },
      "text/plain": [
       "HBox(children=(HTML(value='Amon'), FloatProgress(value=0.0, max=24.0), HTML(value='')))"
      ]
     },
     "metadata": {},
     "output_type": "display_data"
    },
    {
     "data": {
      "application/vnd.jupyter.widget-view+json": {
       "model_id": "",
       "version_major": 2,
       "version_minor": 0
      },
      "text/plain": [
       "HBox(children=(HTML(value='Omon'), FloatProgress(value=0.0, max=16.0), HTML(value='')))"
      ]
     },
     "metadata": {},
     "output_type": "display_data"
    },
    {
     "data": {
      "application/vnd.jupyter.widget-view+json": {
       "model_id": "",
       "version_major": 2,
       "version_minor": 0
      },
      "text/plain": [
       "HBox(children=(HTML(value='SImon'), FloatProgress(value=0.0, max=9.0), HTML(value='')))"
      ]
     },
     "metadata": {},
     "output_type": "display_data"
    },
    {
     "data": {
      "application/vnd.jupyter.widget-view+json": {
       "model_id": "",
       "version_major": 2,
       "version_minor": 0
      },
      "text/plain": [
       "HBox(children=(HTML(value='day'), FloatProgress(value=0.0, max=7.0), HTML(value='')))"
      ]
     },
     "metadata": {},
     "output_type": "display_data"
    },
    {
     "data": {
      "application/vnd.jupyter.widget-view+json": {
       "model_id": "",
       "version_major": 2,
       "version_minor": 0
      },
      "text/plain": [
       "HBox(children=(HTML(value='r5i1p1f1'), FloatProgress(value=0.0, max=7.0), HTML(value='')))"
      ]
     },
     "metadata": {},
     "output_type": "display_data"
    },
    {
     "data": {
      "application/vnd.jupyter.widget-view+json": {
       "model_id": "",
       "version_major": 2,
       "version_minor": 0
      },
      "text/plain": [
       "HBox(children=(HTML(value='Amon'), FloatProgress(value=0.0, max=24.0), HTML(value='')))"
      ]
     },
     "metadata": {},
     "output_type": "display_data"
    },
    {
     "data": {
      "application/vnd.jupyter.widget-view+json": {
       "model_id": "",
       "version_major": 2,
       "version_minor": 0
      },
      "text/plain": [
       "HBox(children=(HTML(value='Omon'), FloatProgress(value=0.0, max=16.0), HTML(value='')))"
      ]
     },
     "metadata": {},
     "output_type": "display_data"
    },
    {
     "data": {
      "application/vnd.jupyter.widget-view+json": {
       "model_id": "",
       "version_major": 2,
       "version_minor": 0
      },
      "text/plain": [
       "HBox(children=(HTML(value='SImon'), FloatProgress(value=0.0, max=9.0), HTML(value='')))"
      ]
     },
     "metadata": {},
     "output_type": "display_data"
    },
    {
     "data": {
      "application/vnd.jupyter.widget-view+json": {
       "model_id": "",
       "version_major": 2,
       "version_minor": 0
      },
      "text/plain": [
       "HBox(children=(HTML(value='day'), FloatProgress(value=0.0, max=4.0), HTML(value='')))"
      ]
     },
     "metadata": {},
     "output_type": "display_data"
    },
    {
     "data": {
      "application/vnd.jupyter.widget-view+json": {
       "model_id": "",
       "version_major": 2,
       "version_minor": 0
      },
      "text/plain": [
       "HBox(children=(HTML(value='r1i1p1f1'), FloatProgress(value=0.0, max=5.0), HTML(value='')))"
      ]
     },
     "metadata": {},
     "output_type": "display_data"
    },
    {
     "data": {
      "application/vnd.jupyter.widget-view+json": {
       "model_id": "",
       "version_major": 2,
       "version_minor": 0
      },
      "text/plain": [
       "HBox(children=(HTML(value='Amon'), FloatProgress(value=0.0, max=36.0), HTML(value='')))"
      ]
     },
     "metadata": {},
     "output_type": "display_data"
    },
    {
     "data": {
      "application/vnd.jupyter.widget-view+json": {
       "model_id": "",
       "version_major": 2,
       "version_minor": 0
      },
      "text/plain": [
       "HBox(children=(HTML(value='Omon'), FloatProgress(value=0.0, max=18.0), HTML(value='')))"
      ]
     },
     "metadata": {},
     "output_type": "display_data"
    },
    {
     "data": {
      "application/vnd.jupyter.widget-view+json": {
       "model_id": "",
       "version_major": 2,
       "version_minor": 0
      },
      "text/plain": [
       "HBox(children=(HTML(value='SImon'), FloatProgress(value=0.0, max=8.0), HTML(value='')))"
      ]
     },
     "metadata": {},
     "output_type": "display_data"
    },
    {
     "data": {
      "application/vnd.jupyter.widget-view+json": {
       "model_id": "",
       "version_major": 2,
       "version_minor": 0
      },
      "text/plain": [
       "HBox(children=(HTML(value='day'), FloatProgress(value=0.0, max=5.0), HTML(value='')))"
      ]
     },
     "metadata": {},
     "output_type": "display_data"
    },
    {
     "data": {
      "application/vnd.jupyter.widget-view+json": {
       "model_id": "",
       "version_major": 2,
       "version_minor": 0
      },
      "text/plain": [
       "HBox(children=(HTML(value='fx'), FloatProgress(value=0.0, max=3.0), HTML(value='')))"
      ]
     },
     "metadata": {},
     "output_type": "display_data"
    },
    {
     "data": {
      "application/vnd.jupyter.widget-view+json": {
       "model_id": "",
       "version_major": 2,
       "version_minor": 0
      },
      "text/plain": [
       "HBox(children=(HTML(value='AWI-ESM-1-1-LR'), FloatProgress(value=0.0, max=2.0), HTML(value='')))"
      ]
     },
     "metadata": {},
     "output_type": "display_data"
    },
    {
     "data": {
      "application/vnd.jupyter.widget-view+json": {
       "model_id": "",
       "version_major": 2,
       "version_minor": 0
      },
      "text/plain": [
       "HBox(children=(HTML(value='r1i1p1f1'), FloatProgress(value=0.0, max=10.0), HTML(value='')))"
      ]
     },
     "metadata": {},
     "output_type": "display_data"
    },
    {
     "data": {
      "application/vnd.jupyter.widget-view+json": {
       "model_id": "",
       "version_major": 2,
       "version_minor": 0
      },
      "text/plain": [
       "HBox(children=(HTML(value='Amon'), FloatProgress(value=0.0, max=26.0), HTML(value='')))"
      ]
     },
     "metadata": {},
     "output_type": "display_data"
    },
    {
     "data": {
      "application/vnd.jupyter.widget-view+json": {
       "model_id": "",
       "version_major": 2,
       "version_minor": 0
      },
      "text/plain": [
       "HBox(children=(HTML(value='Eday'), FloatProgress(value=0.0, max=2.0), HTML(value='')))"
      ]
     },
     "metadata": {},
     "output_type": "display_data"
    },
    {
     "data": {
      "application/vnd.jupyter.widget-view+json": {
       "model_id": "",
       "version_major": 2,
       "version_minor": 0
      },
      "text/plain": [
       "HBox(children=(HTML(value='Lmon'), FloatProgress(value=0.0, max=4.0), HTML(value='')))"
      ]
     },
     "metadata": {},
     "output_type": "display_data"
    },
    {
     "data": {
      "application/vnd.jupyter.widget-view+json": {
       "model_id": "",
       "version_major": 2,
       "version_minor": 0
      },
      "text/plain": [
       "HBox(children=(HTML(value='Omon'), FloatProgress(value=0.0, max=9.0), HTML(value='')))"
      ]
     },
     "metadata": {},
     "output_type": "display_data"
    },
    {
     "data": {
      "application/vnd.jupyter.widget-view+json": {
       "model_id": "",
       "version_major": 2,
       "version_minor": 0
      },
      "text/plain": [
       "HBox(children=(HTML(value='SImon'), FloatProgress(value=0.0, max=4.0), HTML(value='')))"
      ]
     },
     "metadata": {},
     "output_type": "display_data"
    },
    {
     "data": {
      "application/vnd.jupyter.widget-view+json": {
       "model_id": "",
       "version_major": 2,
       "version_minor": 0
      },
      "text/plain": [
       "HBox(children=(HTML(value='day'), FloatProgress(value=0.0, max=13.0), HTML(value='')))"
      ]
     },
     "metadata": {},
     "output_type": "display_data"
    },
    {
     "data": {
      "application/vnd.jupyter.widget-view+json": {
       "model_id": "",
       "version_major": 2,
       "version_minor": 0
      },
      "text/plain": [
       "HBox(children=(HTML(value='fx'), FloatProgress(value=0.0, max=6.0), HTML(value='')))"
      ]
     },
     "metadata": {},
     "output_type": "display_data"
    },
    {
     "data": {
      "application/vnd.jupyter.widget-view+json": {
       "model_id": "",
       "version_major": 2,
       "version_minor": 0
      },
      "text/plain": [
       "HBox(children=(HTML(value='r1i1p1f1'), FloatProgress(value=0.0, max=6.0), HTML(value='')))"
      ]
     },
     "metadata": {},
     "output_type": "display_data"
    },
    {
     "data": {
      "application/vnd.jupyter.widget-view+json": {
       "model_id": "",
       "version_major": 2,
       "version_minor": 0
      },
      "text/plain": [
       "HBox(children=(HTML(value='Amon'), FloatProgress(value=0.0, max=33.0), HTML(value='')))"
      ]
     },
     "metadata": {},
     "output_type": "display_data"
    },
    {
     "data": {
      "application/vnd.jupyter.widget-view+json": {
       "model_id": "",
       "version_major": 2,
       "version_minor": 0
      },
      "text/plain": [
       "HBox(children=(HTML(value='Omon'), FloatProgress(value=0.0, max=12.0), HTML(value='')))"
      ]
     },
     "metadata": {},
     "output_type": "display_data"
    },
    {
     "data": {
      "application/vnd.jupyter.widget-view+json": {
       "model_id": "",
       "version_major": 2,
       "version_minor": 0
      },
      "text/plain": [
       "HBox(children=(HTML(value='SImon'), FloatProgress(value=0.0, max=10.0), HTML(value='')))"
      ]
     },
     "metadata": {},
     "output_type": "display_data"
    },
    {
     "data": {
      "application/vnd.jupyter.widget-view+json": {
       "model_id": "",
       "version_major": 2,
       "version_minor": 0
      },
      "text/plain": [
       "HBox(children=(HTML(value='fx'), FloatProgress(value=0.0, max=6.0), HTML(value='')))"
      ]
     },
     "metadata": {},
     "output_type": "display_data"
    },
    {
     "name": "stdout",
     "output_type": "stream",
     "text": [
      "\n",
      "CPU times: user 10.6 s, sys: 1.09 s, total: 11.7 s\n",
      "Wall time: 12.4 s\n"
     ]
    }
   ],
   "source": [
    "%%time\n",
    "\n",
    "basepath = 'cmip6/CMIP'\n",
    "path = basepath + '/AWI'\n",
    "\n",
    "cat = walk_recursive(path)"
   ]
  },
  {
   "cell_type": "code",
   "execution_count": 25,
   "metadata": {},
   "outputs": [],
   "source": [
    "cat.normalize_hrefs(path)\n",
    "cat.validate_all()"
   ]
  },
  {
   "cell_type": "code",
   "execution_count": 26,
   "metadata": {},
   "outputs": [
    {
     "name": "stdout",
     "output_type": "stream",
     "text": [
      "* <Catalog id=TaiESM1>\n",
      "    * <Catalog id=1pctCO2>\n",
      "        * <Catalog id=r1i1p1f1>\n",
      "            * <Catalog id=Amon>\n",
      "                * <Catalog id=clivi>\n",
      "                    * <Collection id=gn>\n",
      "                * <Catalog id=clt>\n",
      "                    * <Collection id=gn>\n",
      "                * <Catalog id=clwvi>\n",
      "                    * <Collection id=gn>\n",
      "                * <Catalog id=co2mass>\n",
      "                    * <Collection id=gm>\n",
      "                * <Catalog id=evspsbl>\n",
      "                    * <Collection id=gn>\n",
      "                * <Catalog id=hfls>\n",
      "                    * <Collection id=gn>\n",
      "                * <Catalog id=hur>\n",
      "                    * <Collection id=gn>\n",
      "                * <Catalog id=hus>\n",
      "                    * <Collection id=gn>\n",
      "                * <Catalog id=pr>\n",
      "                    * <Collection id=gn>\n",
      "                * <Catalog id=prc>\n",
      "                    * <Collection id=gn>\n",
      "                * <Catalog id=prsn>\n",
      "                    * <Collection id=gn>\n",
      "                * <Catalog id=prw>\n",
      "                    * <Collection id=gn>\n",
      "                * <Catalog id=ps>\n",
      "                    * <Collection id=gn>\n",
      "                * <Catalog id=psl>\n",
      "                    * <Collection id=gn>\n",
      "                * <Catalog id=rlut>\n",
      "                    * <Collection id=gn>\n",
      "                * <Catalog id=rlutcs>\n",
      "                    * <Collection id=gn>\n",
      "                * <Catalog id=rsut>\n",
      "                    * <Collection id=gn>\n",
      "                * <Catalog id=rsutcs>\n",
      "                    * <Collection id=gn>\n",
      "                * <Catalog id=tas>\n",
      "                    * <Collection id=gn>\n",
      "                * <Catalog id=ts>\n",
      "                    * <Collection id=gn>\n",
      "                * <Catalog id=ua>\n",
      "                    * <Collection id=gn>\n",
      "                * <Catalog id=va>\n",
      "                    * <Collection id=gn>\n",
      "                * <Catalog id=wap>\n",
      "                    * <Collection id=gn>\n",
      "                * <Catalog id=zg>\n",
      "                    * <Collection id=gn>\n",
      "            * <Catalog id=Emon>\n",
      "                * <Catalog id=mrsol>\n",
      "                    * <Collection id=gn>\n",
      "            * <Catalog id=Lmon>\n",
      "                * <Catalog id=cLitter>\n",
      "                    * <Collection id=gn>\n",
      "                * <Catalog id=cVeg>\n",
      "                    * <Collection id=gn>\n",
      "                * <Catalog id=evspsblsoi>\n",
      "                    * <Collection id=gn>\n",
      "                * <Catalog id=evspsblveg>\n",
      "                    * <Collection id=gn>\n",
      "                * <Catalog id=gpp>\n",
      "                    * <Collection id=gn>\n",
      "                * <Catalog id=lai>\n",
      "                    * <Collection id=gn>\n",
      "                * <Catalog id=mrro>\n",
      "                    * <Collection id=gn>\n",
      "                * <Catalog id=mrros>\n",
      "                    * <Collection id=gn>\n",
      "                * <Catalog id=mrso>\n",
      "                    * <Collection id=gn>\n",
      "                * <Catalog id=mrsos>\n",
      "                    * <Collection id=gn>\n",
      "                * <Catalog id=prveg>\n",
      "                    * <Collection id=gn>\n",
      "                * <Catalog id=tran>\n",
      "                    * <Collection id=gn>\n",
      "            * <Catalog id=SImon>\n",
      "                * <Catalog id=siconc>\n",
      "                    * <Collection id=gn>\n",
      "                * <Catalog id=sisnconc>\n",
      "                    * <Collection id=gn>\n",
      "                * <Catalog id=sisnthick>\n",
      "                    * <Collection id=gn>\n",
      "                * <Catalog id=sivol>\n",
      "                    * <Collection id=gn>\n",
      "            * <Catalog id=fx>\n",
      "                * <Catalog id=areacella>\n",
      "                    * <Collection id=gn>\n",
      "                * <Catalog id=orog>\n",
      "                    * <Collection id=gn>\n",
      "                * <Catalog id=sftlf>\n",
      "                    * <Collection id=gn>\n",
      "    * <Catalog id=abrupt-4xCO2>\n",
      "        * <Catalog id=r1i1p1f1>\n",
      "            * <Catalog id=Amon>\n",
      "                * <Catalog id=clivi>\n",
      "                    * <Collection id=gn>\n",
      "                * <Catalog id=clwvi>\n",
      "                    * <Collection id=gn>\n",
      "                * <Catalog id=co2mass>\n",
      "                    * <Collection id=gm>\n",
      "                * <Catalog id=evspsbl>\n",
      "                    * <Collection id=gn>\n",
      "                * <Catalog id=hfls>\n",
      "                    * <Collection id=gn>\n",
      "                * <Catalog id=hur>\n",
      "                    * <Collection id=gn>\n",
      "                * <Catalog id=hus>\n",
      "                    * <Collection id=gn>\n",
      "                * <Catalog id=pr>\n",
      "                    * <Collection id=gn>\n",
      "                * <Catalog id=prc>\n",
      "                    * <Collection id=gn>\n",
      "                * <Catalog id=prw>\n",
      "                    * <Collection id=gn>\n",
      "                * <Catalog id=ps>\n",
      "                    * <Collection id=gn>\n",
      "                * <Catalog id=psl>\n",
      "                    * <Collection id=gn>\n",
      "                * <Catalog id=rlut>\n",
      "                    * <Collection id=gn>\n",
      "                * <Catalog id=rlutcs>\n",
      "                    * <Collection id=gn>\n",
      "                * <Catalog id=rsut>\n",
      "                    * <Collection id=gn>\n",
      "                * <Catalog id=rsutcs>\n",
      "                    * <Collection id=gn>\n",
      "                * <Catalog id=tas>\n",
      "                    * <Collection id=gn>\n",
      "                * <Catalog id=ts>\n",
      "                    * <Collection id=gn>\n",
      "                * <Catalog id=ua>\n",
      "                    * <Collection id=gn>\n",
      "                * <Catalog id=va>\n",
      "                    * <Collection id=gn>\n",
      "                * <Catalog id=wap>\n",
      "                    * <Collection id=gn>\n",
      "            * <Catalog id=fx>\n",
      "                * <Catalog id=areacella>\n",
      "                    * <Collection id=gn>\n",
      "                * <Catalog id=orog>\n",
      "                    * <Collection id=gn>\n",
      "                * <Catalog id=sftlf>\n",
      "                    * <Collection id=gn>\n",
      "    * <Catalog id=amip>\n",
      "        * <Catalog id=r1i1p1f1>\n",
      "            * <Catalog id=Amon>\n",
      "                * <Catalog id=clivi>\n",
      "                    * <Collection id=gn>\n",
      "                * <Catalog id=clwvi>\n",
      "                    * <Collection id=gn>\n",
      "                * <Catalog id=evspsbl>\n",
      "                    * <Collection id=gn>\n",
      "                * <Catalog id=hfls>\n",
      "                    * <Collection id=gn>\n",
      "                * <Catalog id=hur>\n",
      "                    * <Collection id=gn>\n",
      "                * <Catalog id=hus>\n",
      "                    * <Collection id=gn>\n",
      "                * <Catalog id=pr>\n",
      "                    * <Collection id=gn>\n",
      "                * <Catalog id=prc>\n",
      "                    * <Collection id=gn>\n",
      "                * <Catalog id=prw>\n",
      "                    * <Collection id=gn>\n",
      "                * <Catalog id=ps>\n",
      "                    * <Collection id=gn>\n",
      "                * <Catalog id=psl>\n",
      "                    * <Collection id=gn>\n",
      "                * <Catalog id=rlut>\n",
      "                    * <Collection id=gn>\n",
      "                * <Catalog id=rsut>\n",
      "                    * <Collection id=gn>\n",
      "                * <Catalog id=rsutcs>\n",
      "                    * <Collection id=gn>\n",
      "                * <Catalog id=sfcWind>\n",
      "                    * <Collection id=gn>\n",
      "                * <Catalog id=tas>\n",
      "                    * <Collection id=gn>\n",
      "                * <Catalog id=ts>\n",
      "                    * <Collection id=gn>\n",
      "                * <Catalog id=ua>\n",
      "                    * <Collection id=gn>\n",
      "                * <Catalog id=va>\n",
      "                    * <Collection id=gn>\n",
      "                * <Catalog id=wap>\n",
      "                    * <Collection id=gn>\n",
      "                * <Catalog id=zg>\n",
      "                    * <Collection id=gn>\n",
      "            * <Catalog id=Emon>\n",
      "                * <Catalog id=mrsol>\n",
      "                    * <Collection id=gn>\n",
      "            * <Catalog id=Lmon>\n",
      "                * <Catalog id=cLitter>\n",
      "                    * <Collection id=gn>\n",
      "                * <Catalog id=cVeg>\n",
      "                    * <Collection id=gn>\n",
      "                * <Catalog id=evspsblsoi>\n",
      "                    * <Collection id=gn>\n",
      "                * <Catalog id=evspsblveg>\n",
      "                    * <Collection id=gn>\n",
      "                * <Catalog id=gpp>\n",
      "                    * <Collection id=gn>\n",
      "                * <Catalog id=lai>\n",
      "                    * <Collection id=gn>\n",
      "                * <Catalog id=mrro>\n",
      "                    * <Collection id=gn>\n",
      "                * <Catalog id=mrros>\n",
      "                    * <Collection id=gn>\n",
      "                * <Catalog id=mrso>\n",
      "                    * <Collection id=gn>\n",
      "                * <Catalog id=mrsos>\n",
      "                    * <Collection id=gn>\n",
      "                * <Catalog id=tran>\n",
      "                    * <Collection id=gn>\n",
      "            * <Catalog id=fx>\n",
      "                * <Catalog id=areacella>\n",
      "                    * <Collection id=gn>\n",
      "                * <Catalog id=orog>\n",
      "                    * <Collection id=gn>\n",
      "                * <Catalog id=sftlf>\n",
      "                    * <Collection id=gn>\n",
      "    * <Catalog id=historical>\n",
      "        * <Catalog id=r1i1p1f1>\n",
      "            * <Catalog id=Amon>\n",
      "                * <Catalog id=cct>\n",
      "                    * <Collection id=gn>\n",
      "                * <Catalog id=cl>\n",
      "                    * <Collection id=gn>\n",
      "                * <Catalog id=cli>\n",
      "                    * <Collection id=gn>\n",
      "                * <Catalog id=clivi>\n",
      "                    * <Collection id=gn>\n",
      "                * <Catalog id=clt>\n",
      "                    * <Collection id=gn>\n",
      "                * <Catalog id=clw>\n",
      "                    * <Collection id=gn>\n",
      "                * <Catalog id=clwvi>\n",
      "                    * <Collection id=gn>\n",
      "                * <Catalog id=evspsbl>\n",
      "                    * <Collection id=gn>\n",
      "                * <Catalog id=hfls>\n",
      "                    * <Collection id=gn>\n",
      "                * <Catalog id=hfss>\n",
      "                    * <Collection id=gn>\n",
      "                * <Catalog id=hur>\n",
      "                    * <Collection id=gn>\n",
      "                * <Catalog id=hus>\n",
      "                    * <Collection id=gn>\n",
      "                * <Catalog id=huss>\n",
      "                    * <Collection id=gn>\n",
      "                * <Catalog id=pr>\n",
      "                    * <Collection id=gn>\n",
      "                * <Catalog id=prc>\n",
      "                    * <Collection id=gn>\n",
      "                * <Catalog id=prsn>\n",
      "                    * <Collection id=gn>\n",
      "                * <Catalog id=prw>\n",
      "                    * <Collection id=gn>\n",
      "                * <Catalog id=ps>\n",
      "                    * <Collection id=gn>\n",
      "                * <Catalog id=psl>\n",
      "                    * <Collection id=gn>\n",
      "                * <Catalog id=rlds>\n",
      "                    * <Collection id=gn>\n",
      "                * <Catalog id=rlus>\n",
      "                    * <Collection id=gn>\n",
      "                * <Catalog id=rlut>\n",
      "                    * <Collection id=gn>\n",
      "                * <Catalog id=rlutcs>\n",
      "                    * <Collection id=gn>\n",
      "                * <Catalog id=rsds>\n",
      "                    * <Collection id=gn>\n",
      "                * <Catalog id=rsdt>\n",
      "                    * <Collection id=gn>\n",
      "                * <Catalog id=rsus>\n",
      "                    * <Collection id=gn>\n",
      "                * <Catalog id=rsuscs>\n",
      "                    * <Collection id=gn>\n",
      "                * <Catalog id=rsut>\n",
      "                    * <Collection id=gn>\n",
      "                * <Catalog id=rsutcs>\n",
      "                    * <Collection id=gn>\n",
      "                * <Catalog id=rtmt>\n",
      "                    * <Collection id=gn>\n",
      "                * <Catalog id=sci>\n",
      "                    * <Collection id=gn>\n",
      "                * <Catalog id=sfcWind>\n",
      "                    * <Collection id=gn>\n",
      "                * <Catalog id=ta>\n",
      "                    * <Collection id=gn>\n",
      "                * <Catalog id=tas>\n",
      "                    * <Collection id=gn>\n",
      "                * <Catalog id=tauu>\n",
      "                    * <Collection id=gn>\n",
      "                * <Catalog id=tauv>\n",
      "                    * <Collection id=gn>\n",
      "                * <Catalog id=ts>\n",
      "                    * <Collection id=gn>\n",
      "                * <Catalog id=ua>\n",
      "                    * <Collection id=gn>\n",
      "                * <Catalog id=va>\n",
      "                    * <Collection id=gn>\n",
      "                * <Catalog id=wap>\n",
      "                    * <Collection id=gn>\n",
      "                * <Catalog id=zg>\n",
      "                    * <Collection id=gn>\n",
      "            * <Catalog id=CFmon>\n",
      "                * <Catalog id=hur>\n",
      "                    * <Collection id=gn>\n",
      "            * <Catalog id=LImon>\n",
      "                * <Catalog id=snw>\n",
      "                    * <Collection id=gn>\n",
      "            * <Catalog id=Lmon>\n",
      "                * <Catalog id=evspsblveg>\n",
      "                    * <Collection id=gn>\n",
      "                * <Catalog id=lai>\n",
      "                    * <Collection id=gn>\n",
      "                * <Catalog id=mrro>\n",
      "                    * <Collection id=gn>\n",
      "                * <Catalog id=mrso>\n",
      "                    * <Collection id=gn>\n",
      "                * <Catalog id=mrsos>\n",
      "                    * <Collection id=gn>\n",
      "                * <Catalog id=prveg>\n",
      "                    * <Collection id=gn>\n",
      "                * <Catalog id=tsl>\n",
      "                    * <Collection id=gn>\n",
      "            * <Catalog id=Omon>\n",
      "                * <Catalog id=evs>\n",
      "                    * <Collection id=gn>\n",
      "                * <Catalog id=prsn>\n",
      "                    * <Collection id=gn>\n",
      "                * <Catalog id=thetao>\n",
      "                    * <Collection id=gn>\n",
      "                * <Catalog id=tos>\n",
      "                    * <Collection id=gn>\n",
      "                * <Catalog id=uo>\n",
      "                    * <Collection id=gn>\n",
      "                * <Catalog id=vo>\n",
      "                    * <Collection id=gn>\n",
      "                * <Catalog id=zos>\n",
      "                    * <Collection id=gn>\n",
      "            * <Catalog id=SImon>\n",
      "                * <Catalog id=siconc>\n",
      "                    * <Collection id=gn>\n",
      "                * <Catalog id=sisnconc>\n",
      "                    * <Collection id=gn>\n",
      "                * <Catalog id=sisnthick>\n",
      "                    * <Collection id=gn>\n",
      "                * <Catalog id=sithick>\n",
      "                    * <Collection id=gn>\n",
      "                * <Catalog id=sivol>\n",
      "                    * <Collection id=gn>\n",
      "            * <Catalog id=day>\n",
      "                * <Catalog id=hus>\n",
      "                    * <Collection id=gn>\n",
      "                * <Catalog id=huss>\n",
      "                    * <Collection id=gn>\n",
      "                * <Catalog id=pr>\n",
      "                    * <Collection id=gn>\n",
      "                * <Catalog id=sfcWind>\n",
      "                    * <Collection id=gn>\n",
      "                * <Catalog id=tas>\n",
      "                    * <Collection id=gn>\n",
      "                * <Catalog id=tasmax>\n",
      "                    * <Collection id=gn>\n",
      "                * <Catalog id=tasmin>\n",
      "                    * <Collection id=gn>\n",
      "                * <Catalog id=ua>\n",
      "                    * <Collection id=gn>\n",
      "                * <Catalog id=va>\n",
      "                    * <Collection id=gn>\n",
      "            * <Catalog id=fx>\n",
      "                * <Catalog id=areacella>\n",
      "                    * <Collection id=gn>\n",
      "                * <Catalog id=orog>\n",
      "                    * <Collection id=gn>\n",
      "                * <Catalog id=sftlf>\n",
      "                    * <Collection id=gn>\n",
      "    * <Catalog id=piControl>\n",
      "        * <Catalog id=r1i1p1f1>\n",
      "            * <Catalog id=Amon>\n",
      "                * <Catalog id=clivi>\n",
      "                    * <Collection id=gn>\n",
      "                * <Catalog id=clt>\n",
      "                    * <Collection id=gn>\n",
      "                * <Catalog id=clwvi>\n",
      "                    * <Collection id=gn>\n",
      "                * <Catalog id=evspsbl>\n",
      "                    * <Collection id=gn>\n",
      "                * <Catalog id=hfls>\n",
      "                    * <Collection id=gn>\n",
      "                * <Catalog id=hfss>\n",
      "                    * <Collection id=gn>\n",
      "                * <Catalog id=hur>\n",
      "                    * <Collection id=gn>\n",
      "                * <Catalog id=hus>\n",
      "                    * <Collection id=gn>\n",
      "                * <Catalog id=huss>\n",
      "                    * <Collection id=gn>\n",
      "                * <Catalog id=pr>\n",
      "                    * <Collection id=gn>\n",
      "                * <Catalog id=prc>\n",
      "                    * <Collection id=gn>\n",
      "                * <Catalog id=prw>\n",
      "                    * <Collection id=gn>\n",
      "                * <Catalog id=ps>\n",
      "                    * <Collection id=gn>\n",
      "                * <Catalog id=psl>\n",
      "                    * <Collection id=gn>\n",
      "                * <Catalog id=rlds>\n",
      "                    * <Collection id=gn>\n",
      "                * <Catalog id=rlus>\n",
      "                    * <Collection id=gn>\n",
      "                * <Catalog id=rlut>\n",
      "                    * <Collection id=gn>\n",
      "                * <Catalog id=rlutcs>\n",
      "                    * <Collection id=gn>\n",
      "                * <Catalog id=rsds>\n",
      "                    * <Collection id=gn>\n",
      "                * <Catalog id=rsdscs>\n",
      "                    * <Collection id=gn>\n",
      "                * <Catalog id=rsdt>\n",
      "                    * <Collection id=gn>\n",
      "                * <Catalog id=rsus>\n",
      "                    * <Collection id=gn>\n",
      "                * <Catalog id=rsuscs>\n",
      "                    * <Collection id=gn>\n",
      "                * <Catalog id=rsut>\n",
      "                    * <Collection id=gn>\n",
      "                * <Catalog id=rsutcs>\n",
      "                    * <Collection id=gn>\n",
      "                * <Catalog id=ta>\n",
      "                    * <Collection id=gn>\n",
      "                * <Catalog id=tas>\n",
      "                    * <Collection id=gn>\n",
      "                * <Catalog id=ts>\n",
      "                    * <Collection id=gn>\n",
      "                * <Catalog id=ua>\n",
      "                    * <Collection id=gn>\n",
      "                * <Catalog id=va>\n",
      "                    * <Collection id=gn>\n",
      "                * <Catalog id=wap>\n",
      "                    * <Collection id=gn>\n",
      "                * <Catalog id=zg>\n",
      "                    * <Collection id=gn>\n",
      "            * <Catalog id=SImon>\n",
      "                * <Catalog id=siconc>\n",
      "                    * <Collection id=gn>\n",
      "                * <Catalog id=sisnconc>\n",
      "                    * <Collection id=gn>\n",
      "                * <Catalog id=sivol>\n",
      "                    * <Collection id=gn>\n",
      "            * <Catalog id=fx>\n",
      "                * <Catalog id=areacella>\n",
      "                    * <Collection id=gn>\n",
      "                * <Catalog id=orog>\n",
      "                    * <Collection id=gn>\n",
      "                * <Catalog id=sftlf>\n",
      "                    * <Collection id=gn>\n"
     ]
    }
   ],
   "source": [
    "cat.describe()"
   ]
  },
  {
   "cell_type": "code",
   "execution_count": 27,
   "metadata": {},
   "outputs": [],
   "source": [
    "# !rm -rf cmip6/\n",
    "# cat.save(catalog_type=pystac.CatalogType.SELF_CONTAINED)"
   ]
  }
 ],
 "metadata": {
  "kernelspec": {
   "display_name": "Python 3",
   "language": "python",
   "name": "python3"
  },
  "language_info": {
   "codemirror_mode": {
    "name": "ipython",
    "version": 3
   },
   "file_extension": ".py",
   "mimetype": "text/x-python",
   "name": "python",
   "nbconvert_exporter": "python",
   "pygments_lexer": "ipython3",
   "version": "3.8.6"
  }
 },
 "nbformat": 4,
 "nbformat_minor": 4
}
